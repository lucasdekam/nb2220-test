{
 "cells": [
  {
   "cell_type": "markdown",
   "id": "4577da98",
   "metadata": {},
   "source": [
    "# Problem set 6\n",
    "\n",
    "Test,\n",
    "\n",
    "$$\n",
    "  e^{i \\pi} + 1 = 0\n",
    "$$ (eq:best-equation-ever)\n",
    "\n",
    "is the best equation ever."
   ]
  },
  {
   "cell_type": "code",
   "execution_count": 1,
   "id": "efdaa8b5",
   "metadata": {
    "tags": [
     "hide-input"
    ]
   },
   "outputs": [
    {
     "ename": "ModuleNotFoundError",
     "evalue": "No module named 'scipy'",
     "output_type": "error",
     "traceback": [
      "\u001b[0;31m---------------------------------------------------------------------------\u001b[0m",
      "\u001b[0;31mModuleNotFoundError\u001b[0m                       Traceback (most recent call last)",
      "\u001b[0;32m/tmp/ipykernel_1764/2638345590.py\u001b[0m in \u001b[0;36m<module>\u001b[0;34m\u001b[0m\n\u001b[1;32m      2\u001b[0m \u001b[0;32mimport\u001b[0m \u001b[0mplotly\u001b[0m\u001b[0;34m.\u001b[0m\u001b[0mgraph_objects\u001b[0m \u001b[0;32mas\u001b[0m \u001b[0mgo\u001b[0m\u001b[0;34m\u001b[0m\u001b[0;34m\u001b[0m\u001b[0m\n\u001b[1;32m      3\u001b[0m \u001b[0;32mfrom\u001b[0m \u001b[0mplotly\u001b[0m\u001b[0;34m.\u001b[0m\u001b[0msubplots\u001b[0m \u001b[0;32mimport\u001b[0m \u001b[0mmake_subplots\u001b[0m\u001b[0;34m\u001b[0m\u001b[0;34m\u001b[0m\u001b[0m\n\u001b[0;32m----> 4\u001b[0;31m \u001b[0;32mfrom\u001b[0m \u001b[0mscipy\u001b[0m\u001b[0;34m.\u001b[0m\u001b[0moptimize\u001b[0m \u001b[0;32mimport\u001b[0m \u001b[0mfsolve\u001b[0m\u001b[0;34m\u001b[0m\u001b[0;34m\u001b[0m\u001b[0m\n\u001b[0m\u001b[1;32m      5\u001b[0m \u001b[0;34m\u001b[0m\u001b[0m\n\u001b[1;32m      6\u001b[0m \u001b[0mkbt\u001b[0m \u001b[0;34m=\u001b[0m \u001b[0;36m1\u001b[0m\u001b[0;34m\u001b[0m\u001b[0;34m\u001b[0m\u001b[0m\n",
      "\u001b[0;31mModuleNotFoundError\u001b[0m: No module named 'scipy'"
     ]
    }
   ],
   "source": [
    "import numpy as np\n",
    "import plotly.graph_objects as go\n",
    "from plotly.subplots import make_subplots\n",
    "from scipy.optimize import fsolve\n",
    "\n",
    "kbt = 1\n",
    "\n",
    "def pressure(rho, a, b):\n",
    "    p = rho*kbt/(1-b*rho) - a*rho**2\n",
    "    return p\n",
    "\n",
    "def chempot(rho, a, b):\n",
    "    kbt = 1\n",
    "    mu = kbt*np.log(rho/(1-b*rho)) + kbt*b*rho/(1-b*rho) - 2*a*rho\n",
    "    return mu\n",
    "\n",
    "## Define the range of densities to plot\n",
    "rho = np.linspace(0.01, 0.99, 200)\n",
    "range_a = np.arange(0, 10, 0.25)\n",
    "\n",
    "## Create plot\n",
    "fig = make_subplots(rows=1, cols=2, horizontal_spacing=0.18)\n",
    "\n",
    "# Add ideal gas traces\n",
    "fig.add_trace(go.Scatter(\n",
    "    visible=True,\n",
    "    x=rho,\n",
    "    y=pressure(rho, 0, 0),\n",
    "    line=dict(color=\"#000000\"),\n",
    "    mode='lines',\n",
    "    name='Ideal gas'), row=1, col=1)\n",
    "\n",
    "fig.add_trace(go.Scatter(\n",
    "    visible=True,\n",
    "    x=rho,\n",
    "    y=chempot(rho, 0, 0),\n",
    "    line=dict(color=\"#000000\"),\n",
    "    mode='lines',\n",
    "    name='Ideal gas',\n",
    "    showlegend=False,), row=1, col=2)\n",
    "\n",
    "base_traces = 2 # Number of traces that are always visible\n",
    "\n",
    "# Add traces, one for each slider step\n",
    "for a in range_a:\n",
    "    fig.add_trace(        \n",
    "        go.Scatter(\n",
    "            visible=False,\n",
    "            x=rho,\n",
    "            y=pressure(rho, a, 1),\n",
    "            line=dict(color=\"#ff5638\"),\n",
    "            mode='lines',\n",
    "            name='VdW fluid'), row=1, col=1)\n",
    "\n",
    "    fig.add_trace(        \n",
    "        go.Scatter(\n",
    "            visible=False,\n",
    "            x=rho,\n",
    "            y=chempot(rho, a, 1),\n",
    "            line=dict(color=\"#ff5638\"),\n",
    "            mode='lines',\n",
    "            name='VdW fluid',\n",
    "            showlegend=False), row=1, col=2)\n",
    "\n",
    "traces_per_step = 2 # Number of traces per value of a\n",
    "\n",
    "# Show the traces for one value of a when loading the plot (initial setup)\n",
    "active_a_index = 10\n",
    "fig.data[active_a_index + base_traces].visible = True\n",
    "fig.data[active_a_index + base_traces + 1].visible = True\n",
    "\n",
    "# Create and add slider\n",
    "steps = []\n",
    "for i in range(0, range_a.shape[0]):\n",
    "    visarray = [False] * len(fig.data)\n",
    "    visarray[0:base_traces] = [True] * base_traces\n",
    "    curr_idx = int(base_traces + i * traces_per_step)\n",
    "    next_idx = int(base_traces + (i+1) * traces_per_step)\n",
    "    visarray[curr_idx:next_idx] = [True] * traces_per_step\n",
    "    step = dict(\n",
    "        method=\"update\",\n",
    "        args=[{\"visible\": visarray}],\n",
    "        label=range_a[i]\n",
    "    )\n",
    "    steps.append(step)\n",
    "\n",
    "sliders = [dict(\n",
    "    active=active_a_index,\n",
    "    currentvalue={\"prefix\": \"a: \"},\n",
    "    steps=steps\n",
    ")]\n",
    "\n",
    "fig.update_layout(\n",
    "    sliders=sliders,\n",
    "    xaxis_title=r'$\\mathrm{density} \\; \\rho$',\n",
    "    yaxis_title=r'$\\mathrm{pressure} \\; p$',\n",
    "    legend_title=\"Legend\",\n",
    "    height=400\n",
    ")\n",
    "\n",
    "fig.update_xaxes(title_text=r'$\\mathrm{density} \\; \\rho$', row=1, col=1)\n",
    "fig.update_xaxes(title_text=r'$\\mathrm{density} \\; \\rho$', row=1, col=2)\n",
    "\n",
    "# Update yaxis properties\n",
    "fig.update_yaxes(title_text=r'$\\mathrm{pressure} \\; p$', range=[-3, 4], row=1, col=1)\n",
    "fig.update_yaxes(title_text=r'$\\mathrm{chemical \\; potential} \\; \\mu$', range=[-5.5, 0.25], row=1, col=2)\n",
    "\n",
    "fig"
   ]
  }
 ],
 "metadata": {
  "jupytext": {
   "text_representation": {
    "extension": ".md",
    "format_name": "myst",
    "format_version": 0.13,
    "jupytext_version": "1.10.3"
   }
  },
  "kernelspec": {
   "display_name": "Python 3 (ipykernel)",
   "language": "python",
   "name": "python3"
  },
  "language_info": {
   "codemirror_mode": {
    "name": "ipython",
    "version": 3
   },
   "file_extension": ".py",
   "mimetype": "text/x-python",
   "name": "python",
   "nbconvert_exporter": "python",
   "pygments_lexer": "ipython3",
   "version": "3.8.10"
  },
  "source_map": [
   12,
   24
  ]
 },
 "nbformat": 4,
 "nbformat_minor": 5
}